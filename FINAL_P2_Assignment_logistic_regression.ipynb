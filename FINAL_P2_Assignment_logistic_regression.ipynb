{
  "nbformat": 4,
  "nbformat_minor": 0,
  "metadata": {
    "colab": {
      "provenance": []
    },
    "language_info": {
      "codemirror_mode": {
        "name": "ipython",
        "version": 3
      },
      "file_extension": ".py",
      "mimetype": "text/x-python",
      "name": "python",
      "nbconvert_exporter": "python",
      "pygments_lexer": "ipython3",
      "version": "3.5.5"
    },
    "kernelspec": {
      "display_name": "Python 3",
      "language": "python",
      "name": "python3"
    }
  },
  "cells": [
    {
      "cell_type": "markdown",
      "metadata": {
        "id": "VGDKqNGv1Rtx"
      },
      "source": [
        "# Logistic Regression\n",
        "\n",
        "You will implement logistic regression classifier.\n",
        "\n",
        "Iris dataset with only 2 classes is provided to test the code.\n"
      ]
    },
    {
      "cell_type": "code",
      "metadata": {
        "id": "alBxk8lq1Rt4",
        "colab": {
          "base_uri": "https://localhost:8080/"
        },
        "outputId": "ac3b48b9-f30d-40a8-8576-1d44d0c12dd2"
      },
      "source": [
        "import numpy as np\n",
        "import pandas as pd\n",
        "import numpy.matlib\n",
        "import matplotlib.pyplot as plt\n",
        "\n",
        "# read dataset\n",
        "df = pd.read_csv(\"shuffled_2class_iris_dataset.csv\")\n",
        "print(df.head())\n",
        "\n",
        "df = df.values\n",
        "X = df[:,0:4]   # 100x4\n",
        "y = df[:,4]     # 100x1\n",
        "\n",
        "# Zero out the mean\n",
        "diff = X.max(0) - X.min(0)\n",
        "X = X - diff\n",
        "\n",
        "# Create 90/10 trainig/test sets\n",
        "train_data = X[0:90,0:4]; train_label = y[0:90]\n",
        "test_data = X[90:100,0:4]; test_label = y[90:100]"
      ],
      "execution_count": null,
      "outputs": [
        {
          "output_type": "stream",
          "name": "stdout",
          "text": [
            "   sepal_width  sepal_length  petal_width  petal_length  class\n",
            "0          5.6           3.0          4.1           1.3      0\n",
            "1          5.4           3.9          1.7           0.4      1\n",
            "2          5.6           3.0          4.5           1.5      0\n",
            "3          5.0           3.5          1.6           0.6      1\n",
            "4          5.5           2.4          3.7           1.0      0\n"
          ]
        }
      ]
    },
    {
      "cell_type": "code",
      "source": [
        "def sigmoid(z):\n",
        "    return 1/(1 + np.exp(-z))\n",
        "\n",
        "def cost_function(h, y):\n",
        "    return (-y * np.log(h) - (1-y) * np.log(1-h)).mean()\n",
        "\n",
        "def train(X, y, learning_rate, epochs):\n",
        "    m, n = X.shape\n",
        "    weights = np.zeros(n)\n",
        "    bias = 0\n",
        "    costs = []\n",
        "    \n",
        "    for i in range(epochs):\n",
        "        z = np.dot(X, weights) + bias\n",
        "        h = sigmoid(z)\n",
        "        gradient = np.dot(X.T, (h-y)) / m\n",
        "        weights -= learning_rate * gradient\n",
        "        bias -= learning_rate * np.mean(h-y)\n",
        "        \n",
        "        cost = cost_function(h, y)\n",
        "        costs.append(cost)\n",
        "        \n",
        "    return weights, bias, costs\n",
        "\n",
        "weights, bias, costs = train(train_data, train_label, 0.01, 2000)\n",
        "\n",
        "plt.plot(range(len(costs)), costs)\n",
        "plt.xlabel(\"Epochs\")\n",
        "plt.ylabel(\"Cost\")\n",
        "plt.show()\n"
      ],
      "metadata": {
        "colab": {
          "base_uri": "https://localhost:8080/",
          "height": 279
        },
        "id": "KVqMMgxw2JZZ",
        "outputId": "559037ea-ce93-4b30-c5da-8a0d51ae2c1d"
      },
      "execution_count": null,
      "outputs": [
        {
          "output_type": "display_data",
          "data": {
            "text/plain": [
              "<Figure size 432x288 with 1 Axes>"
            ],
            "image/png": "[encoded data removed]"
          },
          "metadata": {
            "needs_background": "light"
          }
        }
      ]
    },
    {
      "cell_type": "code",
      "source": [
        "def predict(X, weights, bias):\n",
        "    z = np.dot(X, weights) + bias\n",
        "    h = sigmoid(z)\n",
        "    y_pred = np.round(h)\n",
        "    return y_pred\n",
        "\n",
        "y_pred = predict(test_data, weights, bias)\n",
        "\n",
        "print(\"Actual Class Labels:\", test_label)\n",
        "print(\"Predicted Class Labels:\", y_pred)\n",
        "\n",
        "accuracy = (test_label == y_pred).mean()\n",
        "print(\"Accuracy:\", accuracy)\n"
      ],
      "metadata": {
        "colab": {
          "base_uri": "https://localhost:8080/"
        },
        "id": "1cyoOIo0-SUf",
        "outputId": "573e3288-72d0-4236-f2dd-3e562d9f0152"
      },
      "execution_count": null,
      "outputs": [
        {
          "output_type": "stream",
          "name": "stdout",
          "text": [
            "Actual Class Labels: [1. 1. 0. 1. 0. 1. 0. 0. 0. 1.]\n",
            "Predicted Class Labels: [1. 1. 0. 1. 0. 1. 0. 0. 0. 1.]\n",
            "Accuracy: 1.0\n"
          ]
        }
      ]
    }
  ]
}